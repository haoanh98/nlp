{
 "cells": [
  {
   "cell_type": "code",
   "execution_count": 1,
   "metadata": {},
   "outputs": [
    {
     "name": "stderr",
     "output_type": "stream",
     "text": [
      "Using TensorFlow backend.\n"
     ]
    }
   ],
   "source": [
    "from keras.models import Sequential\n",
    "from keras.layers import Dense, Embedding, Flatten\n",
    "from keras.layers.convolutional import Conv1D\n",
    "from keras.layers.convolutional import MaxPooling1D\n",
    "from keras.initializers import Constant\n",
    "from keras.optimizers import SGD\n",
    "from keras.utils import to_categorical\n",
    "import numpy as np\n",
    "import matplotlib.pyplot as plt\n",
    "import pandas as pd\n",
    "\n",
    "dataset = pd.read_csv('bbc-text.csv')"
   ]
  },
  {
   "cell_type": "code",
   "execution_count": 2,
   "metadata": {},
   "outputs": [
    {
     "name": "stderr",
     "output_type": "stream",
     "text": [
      "[nltk_data] Downloading package stopwords to\n",
      "[nltk_data]     C:\\Users\\kiki\\AppData\\Roaming\\nltk_data...\n",
      "[nltk_data]   Package stopwords is already up-to-date!\n"
     ]
    }
   ],
   "source": [
    "import re\n",
    "import nltk\n",
    "nltk.download('stopwords')\n",
    "from nltk.corpus import stopwords\n",
    "from nltk.stem.porter import PorterStemmer\n",
    "corpus = []\n",
    "for i in range(0, 2225):\n",
    "    review = re.sub('[^a-zA-Z]', ' ', dataset['text'][i])\n",
    "    review = review.lower()\n",
    "    review = review.split()\n",
    "    ps = PorterStemmer()\n",
    "    review = [ps.stem(word) for word in review if not word in set(stopwords.words('english'))]\n",
    "    corpus.append(review)"
   ]
  },
  {
   "cell_type": "code",
   "execution_count": 3,
   "metadata": {},
   "outputs": [],
   "source": [
    "from gensim.models import Word2Vec\n",
    "import logging\n",
    "\n",
    "logging.basicConfig(format='%(asctime)s : %(levelname)s : %(message)s', level=logging.INFO)    \n",
    "model = Word2Vec(corpus, size=100, window=10, min_count=3, workers=4, sg=1)"
   ]
  },
  {
   "cell_type": "code",
   "execution_count": 4,
   "metadata": {},
   "outputs": [],
   "source": [
    "\n",
    "from tensorflow.python.keras.preprocessing.text import Tokenizer\n",
    "from tensorflow.python.keras.preprocessing.sequence import pad_sequences\n",
    "tokenizer_obj = Tokenizer()\n",
    "tokenizer_obj.fit_on_texts(corpus)\n",
    "sequences = tokenizer_obj.texts_to_sequences(corpus)\n",
    "word_index = tokenizer_obj.word_index\n",
    "status_pad = pad_sequences(sequences, maxlen=200)"
   ]
  },
  {
   "cell_type": "code",
   "execution_count": 5,
   "metadata": {},
   "outputs": [],
   "source": [
    "EMBEDDING_DIM =100\n",
    "num_words = len(word_index) + 1\n",
    "embedding_matrix = np.zeros((num_words, EMBEDDING_DIM))\n",
    "\n",
    "for word in model.wv.vocab.keys():\n",
    "    i=word_index[word]\n",
    "    embedding_matrix[i] = model.wv[word]"
   ]
  },
  {
   "cell_type": "code",
   "execution_count": 6,
   "metadata": {},
   "outputs": [],
   "source": [
    "y=[]\n",
    "for word in dataset.iloc[:,0].values:\n",
    "    if word=='business' :\n",
    "        y.append([1 ,0 ,0 ,0 ,0 ])\n",
    "    if word=='entertainment' :\n",
    "        y.append([0 ,1 ,0 ,0 ,0 ])\n",
    "    if word=='politics' :\n",
    "        y.append([0 ,0 ,1 ,0 ,0 ])\n",
    "    if word=='sport' :\n",
    "        y.append([0 ,0 ,0 ,1 ,0 ])\n",
    "    if word=='tech' :\n",
    "        y.append([0 ,0 ,0 ,0 ,1 ])\n",
    "y = np.asarray(y)    "
   ]
  },
  {
   "cell_type": "code",
   "execution_count": 7,
   "metadata": {},
   "outputs": [],
   "source": [
    "from sklearn.model_selection import train_test_split\n",
    "x_train, x_val, y_train, y_val = train_test_split(status_pad, y, test_size = 0.20, random_state = 0)\n"
   ]
  },
  {
   "cell_type": "code",
   "execution_count": 8,
   "metadata": {},
   "outputs": [
    {
     "name": "stderr",
     "output_type": "stream",
     "text": [
      "WARNING: Logging before flag parsing goes to stderr.\n",
      "W0927 15:31:55.787189  4812 deprecation_wrapper.py:119] From C:\\Users\\kiki\\Anaconda3\\lib\\site-packages\\keras\\backend\\tensorflow_backend.py:74: The name tf.get_default_graph is deprecated. Please use tf.compat.v1.get_default_graph instead.\n",
      "\n",
      "W0927 15:31:55.818416  4812 deprecation_wrapper.py:119] From C:\\Users\\kiki\\Anaconda3\\lib\\site-packages\\keras\\backend\\tensorflow_backend.py:517: The name tf.placeholder is deprecated. Please use tf.compat.v1.placeholder instead.\n",
      "\n",
      "W0927 15:31:55.818416  4812 deprecation_wrapper.py:119] From C:\\Users\\kiki\\Anaconda3\\lib\\site-packages\\keras\\backend\\tensorflow_backend.py:4138: The name tf.random_uniform is deprecated. Please use tf.random.uniform instead.\n",
      "\n",
      "W0927 15:31:55.834041  4812 deprecation_wrapper.py:119] From C:\\Users\\kiki\\Anaconda3\\lib\\site-packages\\keras\\backend\\tensorflow_backend.py:174: The name tf.get_default_session is deprecated. Please use tf.compat.v1.get_default_session instead.\n",
      "\n",
      "W0927 15:31:55.834041  4812 deprecation_wrapper.py:119] From C:\\Users\\kiki\\Anaconda3\\lib\\site-packages\\keras\\backend\\tensorflow_backend.py:181: The name tf.ConfigProto is deprecated. Please use tf.compat.v1.ConfigProto instead.\n",
      "\n",
      "W0927 15:31:56.021527  4812 deprecation_wrapper.py:119] From C:\\Users\\kiki\\Anaconda3\\lib\\site-packages\\keras\\backend\\tensorflow_backend.py:3976: The name tf.nn.max_pool is deprecated. Please use tf.nn.max_pool2d instead.\n",
      "\n",
      "W0927 15:31:56.084044  4812 deprecation_wrapper.py:119] From C:\\Users\\kiki\\Anaconda3\\lib\\site-packages\\keras\\optimizers.py:790: The name tf.train.Optimizer is deprecated. Please use tf.compat.v1.train.Optimizer instead.\n",
      "\n",
      "W0927 15:31:56.271512  4812 deprecation.py:323] From C:\\Users\\kiki\\Anaconda3\\lib\\site-packages\\tensorflow\\python\\ops\\math_grad.py:1250: add_dispatch_support.<locals>.wrapper (from tensorflow.python.ops.array_ops) is deprecated and will be removed in a future version.\n",
      "Instructions for updating:\n",
      "Use tf.where in 2.0, which has the same broadcast rule as np.where\n"
     ]
    },
    {
     "name": "stdout",
     "output_type": "stream",
     "text": [
      "Train on 1780 samples, validate on 445 samples\n",
      "Epoch 1/20\n",
      " - 4s - loss: 1.0217 - acc: 0.5899 - val_loss: 0.4270 - val_acc: 0.9169\n",
      "Epoch 2/20\n",
      " - 4s - loss: 0.3240 - acc: 0.9079 - val_loss: 0.1733 - val_acc: 0.9618\n",
      "Epoch 3/20\n",
      " - 4s - loss: 0.1762 - acc: 0.9455 - val_loss: 0.1794 - val_acc: 0.9371\n",
      "Epoch 4/20\n",
      " - 4s - loss: 0.1036 - acc: 0.9719 - val_loss: 0.1057 - val_acc: 0.9708\n",
      "Epoch 5/20\n",
      " - 3s - loss: 0.0656 - acc: 0.9787 - val_loss: 0.0819 - val_acc: 0.9775\n",
      "Epoch 6/20\n",
      " - 3s - loss: 0.0366 - acc: 0.9882 - val_loss: 0.0735 - val_acc: 0.9775\n",
      "Epoch 7/20\n",
      " - 3s - loss: 0.0122 - acc: 0.9983 - val_loss: 0.1972 - val_acc: 0.9461\n",
      "Epoch 8/20\n",
      " - 3s - loss: 0.0179 - acc: 0.9927 - val_loss: 0.0692 - val_acc: 0.9798\n",
      "Epoch 9/20\n",
      " - 3s - loss: 0.0205 - acc: 0.9933 - val_loss: 0.0931 - val_acc: 0.9708\n",
      "Epoch 10/20\n",
      " - 3s - loss: 0.0012 - acc: 1.0000 - val_loss: 0.0751 - val_acc: 0.9775\n",
      "Epoch 11/20\n",
      " - 4s - loss: 4.6688e-04 - acc: 1.0000 - val_loss: 0.0719 - val_acc: 0.9820\n",
      "Epoch 12/20\n",
      " - 4s - loss: 0.0226 - acc: 0.9949 - val_loss: 0.1158 - val_acc: 0.9663\n",
      "Epoch 13/20\n",
      " - 5s - loss: 4.1629e-04 - acc: 1.0000 - val_loss: 0.0808 - val_acc: 0.9753\n",
      "Epoch 14/20\n",
      " - 4s - loss: 1.0649e-04 - acc: 1.0000 - val_loss: 0.0797 - val_acc: 0.9775\n",
      "Epoch 15/20\n",
      " - 4s - loss: 5.4257e-05 - acc: 1.0000 - val_loss: 0.0853 - val_acc: 0.9753\n",
      "Epoch 16/20\n",
      " - 4s - loss: 1.9597e-05 - acc: 1.0000 - val_loss: 0.0918 - val_acc: 0.9775\n",
      "Epoch 17/20\n",
      " - 4s - loss: 7.1367e-06 - acc: 1.0000 - val_loss: 0.0992 - val_acc: 0.9753\n",
      "Epoch 18/20\n",
      " - 4s - loss: 0.0499 - acc: 0.9916 - val_loss: 0.1316 - val_acc: 0.9775\n",
      "Epoch 19/20\n",
      " - 4s - loss: 5.9888e-06 - acc: 1.0000 - val_loss: 0.1301 - val_acc: 0.9775\n",
      "Epoch 20/20\n",
      " - 4s - loss: 3.7036e-06 - acc: 1.0000 - val_loss: 0.1282 - val_acc: 0.9775\n",
      "_________________________________________________________________\n",
      "Layer (type)                 Output Shape              Param #   \n",
      "=================================================================\n",
      "embedding_1 (Embedding)      (None, 200, 100)          1899900   \n",
      "_________________________________________________________________\n",
      "conv1d_1 (Conv1D)            (None, 196, 64)           32064     \n",
      "_________________________________________________________________\n",
      "max_pooling1d_1 (MaxPooling1 (None, 98, 64)            0         \n",
      "_________________________________________________________________\n",
      "flatten_1 (Flatten)          (None, 6272)              0         \n",
      "_________________________________________________________________\n",
      "dense_1 (Dense)              (None, 10)                62730     \n",
      "_________________________________________________________________\n",
      "dense_2 (Dense)              (None, 5)                 55        \n",
      "=================================================================\n",
      "Total params: 1,994,749\n",
      "Trainable params: 1,994,749\n",
      "Non-trainable params: 0\n",
      "_________________________________________________________________\n",
      "None\n"
     ]
    }
   ],
   "source": [
    "model1 = Sequential()\n",
    "embedding_layer = Embedding(num_words,\n",
    "                            EMBEDDING_DIM,\n",
    "                            weights=[embedding_matrix],\n",
    "                            input_length=200,\n",
    "                            trainable=True)\n",
    "\n",
    "model1.add(embedding_layer)\n",
    "model1.add(Conv1D(filters=64, kernel_size=5, activation='relu'))\n",
    "model1.add(MaxPooling1D(pool_size=2))\n",
    "model1.add(Flatten())\n",
    "model1.add(Dense(10, input_dim=1, activation='relu'))\n",
    "model1.add(Dense(5, activation='softmax'))\n",
    "model1.compile(loss='categorical_crossentropy',optimizer='rmsprop',metrics=['acc'])\n",
    "history=model1.fit(x_train, y_train, validation_data=(x_val, y_val),epochs=20,batch_size=64,verbose=2)\n",
    "print(model1.summary())\n"
   ]
  },
  {
   "cell_type": "code",
   "execution_count": 9,
   "metadata": {},
   "outputs": [
    {
     "data": {
      "image/png": "[encoded data removed]",
      "text/plain": [
       "<Figure size 432x288 with 1 Axes>"
      ]
     },
     "metadata": {
      "needs_background": "light"
     },
     "output_type": "display_data"
    },
    {
     "data": {
      "image/png": "[encoded data removed]",
      "text/plain": [
       "<Figure size 432x288 with 1 Axes>"
      ]
     },
     "metadata": {
      "needs_background": "light"
     },
     "output_type": "display_data"
    }
   ],
   "source": [
    "plt.plot(history.history['val_acc'])\n",
    "plt.plot(history.history['acc'])\n",
    "plt.show()\n",
    "plt.plot(history.history['loss'])\n",
    "plt.plot(history.history['val_loss'])\n",
    "plt.show()"
   ]
  },
  {
   "cell_type": "code",
   "execution_count": null,
   "metadata": {},
   "outputs": [],
   "source": []
  }
 ],
 "metadata": {
  "kernelspec": {
   "display_name": "Python 3",
   "language": "python",
   "name": "python3"
  },
  "language_info": {
   "codemirror_mode": {
    "name": "ipython",
    "version": 3
   },
   "file_extension": ".py",
   "mimetype": "text/x-python",
   "name": "python",
   "nbconvert_exporter": "python",
   "pygments_lexer": "ipython3",
   "version": "3.7.4"
  }
 },
 "nbformat": 4,
 "nbformat_minor": 2
}
